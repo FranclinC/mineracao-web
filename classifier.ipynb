{
 "cells": [
  {
   "cell_type": "code",
   "execution_count": 1,
   "metadata": {},
   "outputs": [],
   "source": [
    "import tensorflow as tf\n",
    "from tensorflow import keras\n",
    "from tensorflow.keras import Sequential\n",
    "from tensorflow.keras.layers import Flatten, Dense\n",
    "from tensorflow.keras.callbacks import EarlyStopping\n",
    "\n",
    "from imblearn.over_sampling import RandomOverSampler\n",
    "\n",
    "import numpy as np\n",
    "import matplotlib.pyplot as plt"
   ]
  },
  {
   "cell_type": "code",
   "execution_count": 2,
   "metadata": {},
   "outputs": [],
   "source": [
    "X_train = np.load(\"dataset_paper/X_train.npy\")\n",
    "y_train = np.load(\"dataset_paper/y_train.npy\")\n",
    "X_val = np.load(\"dataset_paper/X_val.npy\")\n",
    "y_val = np.load(\"dataset_paper/y_val.npy\")\n",
    "\n",
    "ros = RandomOverSampler(random_state=42)\n",
    "X_train, y_train = ros.fit_sample(X_train, y_train)\n",
    "X_val, y_val = ros.fit_sample(X_val, y_val)"
   ]
  },
  {
   "cell_type": "code",
   "execution_count": 3,
   "metadata": {},
   "outputs": [
    {
     "name": "stdout",
     "output_type": "stream",
     "text": [
      "_________________________________________________________________\n",
      "Layer (type)                 Output Shape              Param #   \n",
      "=================================================================\n",
      "dense (Dense)                (None, 3)                 39        \n",
      "_________________________________________________________________\n",
      "dense_1 (Dense)              (None, 4)                 16        \n",
      "_________________________________________________________________\n",
      "dense_2 (Dense)              (None, 1)                 5         \n",
      "=================================================================\n",
      "Total params: 60\n",
      "Trainable params: 60\n",
      "Non-trainable params: 0\n",
      "_________________________________________________________________\n"
     ]
    }
   ],
   "source": [
    "model = Sequential()\n",
    "model.add(Dense(3, activation=\"relu\", input_dim=X_train.shape[1]))\n",
    "model.add(Dense(4, activation=\"relu\"))\n",
    "model.add(Dense(1, activation=\"sigmoid\"))\n",
    "model.compile(optimizer=\"rmsprop\", loss=\"binary_crossentropy\", metrics=[\"accuracy\"])\n",
    "\n",
    "model.summary()"
   ]
  },
  {
   "cell_type": "code",
   "execution_count": 4,
   "metadata": {},
   "outputs": [
    {
     "name": "stdout",
     "output_type": "stream",
     "text": [
      "Train on 9458 samples, validate on 2366 samples\n",
      "Epoch 1/100\n",
      "9458/9458 [==============================] - 1s 67us/step - loss: 0.5134 - acc: 0.8221 - val_loss: 0.2631 - val_acc: 0.9235\n",
      "Epoch 2/100\n",
      "9458/9458 [==============================] - 1s 54us/step - loss: 0.1795 - acc: 0.9505 - val_loss: 0.1532 - val_acc: 0.9480\n",
      "Epoch 3/100\n",
      "9458/9458 [==============================] - 0s 45us/step - loss: 0.1408 - acc: 0.9573 - val_loss: 0.1396 - val_acc: 0.9514\n",
      "Epoch 4/100\n",
      "9458/9458 [==============================] - 0s 51us/step - loss: 0.1323 - acc: 0.9605 - val_loss: 0.1323 - val_acc: 0.9573\n",
      "Epoch 5/100\n",
      "9458/9458 [==============================] - 0s 41us/step - loss: 0.1274 - acc: 0.9625 - val_loss: 0.1293 - val_acc: 0.9569\n",
      "Epoch 6/100\n",
      "9458/9458 [==============================] - 0s 42us/step - loss: 0.1238 - acc: 0.9628 - val_loss: 0.1270 - val_acc: 0.9573\n",
      "Epoch 7/100\n",
      "9458/9458 [==============================] - 0s 42us/step - loss: 0.1218 - acc: 0.9636 - val_loss: 0.1257 - val_acc: 0.9598\n",
      "Epoch 8/100\n",
      "9458/9458 [==============================] - 0s 42us/step - loss: 0.1194 - acc: 0.9633 - val_loss: 0.1245 - val_acc: 0.9624\n",
      "Epoch 9/100\n",
      "9458/9458 [==============================] - 1s 54us/step - loss: 0.1182 - acc: 0.9633 - val_loss: 0.1235 - val_acc: 0.9632\n",
      "Epoch 10/100\n",
      "9458/9458 [==============================] - 0s 42us/step - loss: 0.1169 - acc: 0.9652 - val_loss: 0.1230 - val_acc: 0.9649\n",
      "Epoch 11/100\n",
      "9458/9458 [==============================] - 0s 51us/step - loss: 0.1159 - acc: 0.9645 - val_loss: 0.1221 - val_acc: 0.9658\n",
      "Epoch 12/100\n",
      "9458/9458 [==============================] - 0s 41us/step - loss: 0.1144 - acc: 0.9657 - val_loss: 0.1226 - val_acc: 0.9658\n",
      "Epoch 13/100\n",
      "9458/9458 [==============================] - 0s 53us/step - loss: 0.1129 - acc: 0.9667 - val_loss: 0.1238 - val_acc: 0.9653\n",
      "Epoch 14/100\n",
      "9458/9458 [==============================] - 0s 44us/step - loss: 0.1134 - acc: 0.9668 - val_loss: 0.1223 - val_acc: 0.9658\n",
      "Epoch 15/100\n",
      "9458/9458 [==============================] - 0s 45us/step - loss: 0.1128 - acc: 0.9674 - val_loss: 0.1259 - val_acc: 0.9666\n",
      "Epoch 16/100\n",
      "9458/9458 [==============================] - 0s 44us/step - loss: 0.1124 - acc: 0.9680 - val_loss: 0.1269 - val_acc: 0.9670\n",
      "Epoch 17/100\n",
      "9458/9458 [==============================] - 0s 45us/step - loss: 0.1122 - acc: 0.9697 - val_loss: 0.1266 - val_acc: 0.9645\n",
      "Epoch 18/100\n",
      "9458/9458 [==============================] - 0s 45us/step - loss: 0.1118 - acc: 0.9690 - val_loss: 0.1245 - val_acc: 0.9653\n",
      "Epoch 19/100\n",
      "9458/9458 [==============================] - 0s 52us/step - loss: 0.1113 - acc: 0.9691 - val_loss: 0.1265 - val_acc: 0.9653\n",
      "Epoch 20/100\n",
      "9458/9458 [==============================] - 1s 53us/step - loss: 0.1114 - acc: 0.9695 - val_loss: 0.1270 - val_acc: 0.9658\n",
      "Epoch 21/100\n",
      "9458/9458 [==============================] - 1s 53us/step - loss: 0.1105 - acc: 0.9694 - val_loss: 0.1293 - val_acc: 0.9637\n",
      "Epoch 22/100\n",
      "9458/9458 [==============================] - 1s 58us/step - loss: 0.1114 - acc: 0.9691 - val_loss: 0.1288 - val_acc: 0.9675\n",
      "Epoch 23/100\n",
      "9458/9458 [==============================] - 0s 46us/step - loss: 0.1105 - acc: 0.9697 - val_loss: 0.1284 - val_acc: 0.9683\n",
      "Epoch 24/100\n",
      "9458/9458 [==============================] - 1s 54us/step - loss: 0.1101 - acc: 0.9697 - val_loss: 0.1291 - val_acc: 0.9666\n",
      "Epoch 25/100\n",
      "9458/9458 [==============================] - 0s 45us/step - loss: 0.1106 - acc: 0.9693 - val_loss: 0.1290 - val_acc: 0.9658\n",
      "Epoch 26/100\n",
      "9458/9458 [==============================] - 0s 45us/step - loss: 0.1102 - acc: 0.9702 - val_loss: 0.1281 - val_acc: 0.9675\n",
      "Epoch 27/100\n",
      "9458/9458 [==============================] - 1s 54us/step - loss: 0.1097 - acc: 0.9693 - val_loss: 0.1286 - val_acc: 0.9675\n",
      "Epoch 28/100\n",
      "9458/9458 [==============================] - 0s 44us/step - loss: 0.1097 - acc: 0.9703 - val_loss: 0.1281 - val_acc: 0.9708\n",
      "Epoch 29/100\n",
      "9458/9458 [==============================] - 0s 47us/step - loss: 0.1091 - acc: 0.9699 - val_loss: 0.1279 - val_acc: 0.9704\n",
      "Epoch 30/100\n",
      "9458/9458 [==============================] - 1s 53us/step - loss: 0.1096 - acc: 0.9699 - val_loss: 0.1275 - val_acc: 0.9700\n",
      "Epoch 31/100\n",
      "9458/9458 [==============================] - 0s 45us/step - loss: 0.1090 - acc: 0.9699 - val_loss: 0.1273 - val_acc: 0.9704\n",
      "Epoch 32/100\n",
      "9458/9458 [==============================] - 0s 44us/step - loss: 0.1087 - acc: 0.9701 - val_loss: 0.1270 - val_acc: 0.9704\n",
      "Epoch 33/100\n",
      "9458/9458 [==============================] - 1s 59us/step - loss: 0.1082 - acc: 0.9704 - val_loss: 0.1270 - val_acc: 0.9704\n",
      "Epoch 34/100\n",
      "9458/9458 [==============================] - 0s 48us/step - loss: 0.1094 - acc: 0.9705 - val_loss: 0.1272 - val_acc: 0.9717\n",
      "Epoch 35/100\n",
      "9458/9458 [==============================] - 1s 58us/step - loss: 0.1087 - acc: 0.9707 - val_loss: 0.1267 - val_acc: 0.9717\n",
      "Epoch 36/100\n",
      "9458/9458 [==============================] - 0s 41us/step - loss: 0.1087 - acc: 0.9703 - val_loss: 0.1264 - val_acc: 0.9717\n",
      "Epoch 37/100\n",
      "9458/9458 [==============================] - 0s 39us/step - loss: 0.1083 - acc: 0.9706 - val_loss: 0.1273 - val_acc: 0.9708\n",
      "Epoch 38/100\n",
      "9458/9458 [==============================] - 0s 43us/step - loss: 0.1080 - acc: 0.9702 - val_loss: 0.1271 - val_acc: 0.9691\n",
      "Epoch 39/100\n",
      "9458/9458 [==============================] - 0s 47us/step - loss: 0.1081 - acc: 0.9707 - val_loss: 0.1270 - val_acc: 0.9704\n",
      "Epoch 40/100\n",
      "9458/9458 [==============================] - 0s 45us/step - loss: 0.1077 - acc: 0.9710 - val_loss: 0.1272 - val_acc: 0.9708\n",
      "Epoch 41/100\n",
      "9458/9458 [==============================] - 0s 50us/step - loss: 0.1084 - acc: 0.9706 - val_loss: 0.1333 - val_acc: 0.9713\n",
      "Epoch 42/100\n",
      "9458/9458 [==============================] - 0s 47us/step - loss: 0.1074 - acc: 0.9708 - val_loss: 0.1338 - val_acc: 0.9704\n",
      "Epoch 43/100\n",
      "9458/9458 [==============================] - 0s 47us/step - loss: 0.1081 - acc: 0.9708 - val_loss: 0.1340 - val_acc: 0.9713\n",
      "Epoch 44/100\n",
      "9458/9458 [==============================] - 0s 45us/step - loss: 0.1073 - acc: 0.9706 - val_loss: 0.1339 - val_acc: 0.9721\n",
      "Epoch 45/100\n",
      "9458/9458 [==============================] - 0s 47us/step - loss: 0.1074 - acc: 0.9710 - val_loss: 0.1345 - val_acc: 0.9721\n",
      "Epoch 46/100\n",
      "9458/9458 [==============================] - 0s 48us/step - loss: 0.1077 - acc: 0.9706 - val_loss: 0.1381 - val_acc: 0.9713\n",
      "Epoch 47/100\n",
      "9458/9458 [==============================] - 0s 43us/step - loss: 0.1080 - acc: 0.9706 - val_loss: 0.1386 - val_acc: 0.9717\n",
      "Epoch 48/100\n",
      "9458/9458 [==============================] - 0s 49us/step - loss: 0.1075 - acc: 0.9707 - val_loss: 0.1381 - val_acc: 0.9730\n",
      "Epoch 49/100\n",
      "9458/9458 [==============================] - 0s 42us/step - loss: 0.1071 - acc: 0.9710 - val_loss: 0.1388 - val_acc: 0.9713\n",
      "Epoch 50/100\n",
      "9458/9458 [==============================] - 0s 47us/step - loss: 0.1072 - acc: 0.9710 - val_loss: 0.1393 - val_acc: 0.9717\n",
      "Epoch 51/100\n",
      "9458/9458 [==============================] - 0s 44us/step - loss: 0.1071 - acc: 0.9710 - val_loss: 0.1392 - val_acc: 0.9721\n",
      "Epoch 52/100\n",
      "9458/9458 [==============================] - 0s 45us/step - loss: 0.1083 - acc: 0.9706 - val_loss: 0.1391 - val_acc: 0.9721\n",
      "Epoch 53/100\n",
      "9458/9458 [==============================] - 0s 46us/step - loss: 0.1080 - acc: 0.9707 - val_loss: 0.1388 - val_acc: 0.9721\n",
      "Epoch 54/100\n",
      "9458/9458 [==============================] - 0s 47us/step - loss: 0.1076 - acc: 0.9710 - val_loss: 0.1393 - val_acc: 0.9713\n",
      "Epoch 55/100\n",
      "9458/9458 [==============================] - 0s 47us/step - loss: 0.1075 - acc: 0.9709 - val_loss: 0.1387 - val_acc: 0.9713\n",
      "Epoch 56/100\n",
      "9458/9458 [==============================] - 0s 44us/step - loss: 0.1072 - acc: 0.9707 - val_loss: 0.1388 - val_acc: 0.9721\n",
      "Epoch 57/100\n",
      "9458/9458 [==============================] - 0s 45us/step - loss: 0.1075 - acc: 0.9713 - val_loss: 0.1382 - val_acc: 0.9730\n",
      "Epoch 58/100\n",
      "9458/9458 [==============================] - 0s 47us/step - loss: 0.1071 - acc: 0.9705 - val_loss: 0.1378 - val_acc: 0.9725\n",
      "Epoch 00058: early stopping\n"
     ]
    }
   ],
   "source": [
    "earlystop = EarlyStopping(monitor=\"val_acc\", min_delta=0.0001, patience=10, verbose=1, mode=\"auto\")\n",
    "callbacks_list = [earlystop]\n",
    "history = model.fit(X_train, y_train, validation_data=(X_val, y_val), epochs=100, batch_size=16, callbacks=callbacks_list)"
   ]
  },
  {
   "cell_type": "code",
   "execution_count": 5,
   "metadata": {},
   "outputs": [
    {
     "data": {
      "image/png": "[encoded data removed]",
      "text/plain": [
       "<Figure size 432x288 with 1 Axes>"
      ]
     },
     "metadata": {
      "needs_background": "light"
     },
     "output_type": "display_data"
    }
   ],
   "source": [
    "train_acc = history.history[\"acc\"]\n",
    "val_acc = history.history[\"val_acc\"]\n",
    "\n",
    "fig, ax = plt.subplots()\n",
    "ax.plot(train_acc, label=\"Train\")\n",
    "ax.plot(val_acc, label=\"Validation\")\n",
    "ax.set(title=\"Accuracy\", xlabel=\"Epochs\", ylabel=\"Accuracy\")\n",
    "ax.legend()\n",
    "plt.show()"
   ]
  },
  {
   "cell_type": "code",
   "execution_count": 6,
   "metadata": {},
   "outputs": [
    {
     "name": "stdout",
     "output_type": "stream",
     "text": [
      "Model saved\n"
     ]
    }
   ],
   "source": [
    "model_json = model.to_json()\n",
    "with open(\"models/mlp_model.json\", \"w\") as json_file:\n",
    "    json_file.write(model_json)\n",
    "model.save_weights(\"models/mlp_model.h5\")\n",
    "print(\"Model saved\")"
   ]
  }
 ],
 "metadata": {
  "kernelspec": {
   "display_name": "Python 3",
   "language": "python",
   "name": "python3"
  },
  "language_info": {
   "codemirror_mode": {
    "name": "ipython",
    "version": 3
   },
   "file_extension": ".py",
   "mimetype": "text/x-python",
   "name": "python",
   "nbconvert_exporter": "python",
   "pygments_lexer": "ipython3",
   "version": "3.6.6"
  }
 },
 "nbformat": 4,
 "nbformat_minor": 2
}
